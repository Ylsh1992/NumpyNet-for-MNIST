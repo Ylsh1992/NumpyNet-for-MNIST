{
 "cells": [
  {
   "cell_type": "markdown",
   "metadata": {},
   "source": [
    "# Build a neural network to classify MNIST by numpy"
   ]
  },
  {
   "cell_type": "code",
   "execution_count": 287,
   "metadata": {},
   "outputs": [],
   "source": [
    "import numpy as np\n",
    "import math\n",
    "from pathlib import Path\n",
    "import struct\n",
    "import matplotlib.pyplot as plt\n",
    "\n",
    "np.random.seed(1)"
   ]
  },
  {
   "cell_type": "markdown",
   "metadata": {},
   "source": [
    "Load Data: Load by your path not only MNIST dataset, you can choose any dataset suit for DNN"
   ]
  },
  {
   "cell_type": "code",
   "execution_count": 288,
   "metadata": {},
   "outputs": [],
   "source": [
    "data_path = Path('./MNIST')\n",
    "train_img_path = data_path/'train-images-idx3-ubyte'\n",
    "train_lab_path = data_path/'train-labels-idx1-ubyte'\n",
    "test_img_path = data_path/'t10k-images-idx3-ubyte'\n",
    "test_lab_path = data_path/'t10k-labels-idx1-ubyte'"
   ]
  },
  {
   "cell_type": "code",
   "execution_count": 289,
   "metadata": {},
   "outputs": [],
   "source": [
    "# Load image and labels\n",
    "\n",
    "# For training convenient, we set number of train to 5000.\n",
    "num_train = 5000\n",
    "num_valid = 10000\n",
    "num_test = 10000\n",
    "\n",
    "with open(train_img_path,'rb') as f:\n",
    "    struct.unpack('>4i',f.read(16))\n",
    "    tmp_img = np.fromfile(f,dtype=np.uint8).reshape(-1,28*28)\n",
    "    train_img = tmp_img[:num_train]\n",
    "    valid_img = tmp_img[num_train:]\n",
    "    \n",
    "with open(test_img_path,'rb') as f:\n",
    "    struct.unpack('>4i',f.read(16))\n",
    "    test_img = np.fromfile(f,dtype=np.uint8).reshape(-1,28*28)\n",
    "\n",
    "with open(train_lab_path,'rb') as f:\n",
    "    struct.unpack('>2i',f.read(8))\n",
    "    tmp_lab = np.fromfile(f,dtype=np.uint8)\n",
    "    train_lab = tmp_lab[:num_train]\n",
    "    valid_lab = tmp_lab[num_train:]\n",
    "    \n",
    "with open(test_lab_path,'rb') as f:\n",
    "    struct.unpack('>2i',f.read(8))\n",
    "    test_lab = np.fromfile(f,dtype=np.uint8)"
   ]
  },
  {
   "cell_type": "code",
   "execution_count": 290,
   "metadata": {},
   "outputs": [],
   "source": [
    "def imgshow(dataset = 'train', index = 666):\n",
    "    if dataset == 'train':\n",
    "        print('Trainning set:')\n",
    "        plt.imshow(train_img[index].reshape(28,28), cmap = 'gray')\n",
    "        print(f'Label: {train_lab[index]}')\n",
    "    elif dataset == 'val':\n",
    "        print('Validation set:')\n",
    "        plt.imshow(valid_img[index].reshape(28,28), cmap = 'gray')\n",
    "        print(f'Label: {valid_lab[index]}')\n",
    "    elif dataset == 'test':\n",
    "        print('Test set:')\n",
    "        plt.imshow(test_img[index].reshape(28,28), cmap = 'gray')\n",
    "        print(f'Label: {test_lab[index]}')\n",
    "    else:\n",
    "        print(f'No {dataset} dataset')"
   ]
  },
  {
   "cell_type": "code",
   "execution_count": 291,
   "metadata": {},
   "outputs": [
    {
     "name": "stdout",
     "output_type": "stream",
     "text": [
      "Trainning set:\n",
      "Label: 0\n"
     ]
    },
    {
     "data": {
      "image/png": "[encoded data removed]",
      "text/plain": [
       "<Figure size 432x288 with 1 Axes>"
      ]
     },
     "metadata": {
      "needs_background": "light"
     },
     "output_type": "display_data"
    }
   ],
   "source": [
    "imgshow('train',1)"
   ]
  },
  {
   "cell_type": "code",
   "execution_count": 292,
   "metadata": {},
   "outputs": [
    {
     "data": {
      "text/plain": [
       "array([[1., 0., 0., 0., 0., 0., 0., 0., 0., 0.],\n",
       "       [0., 1., 0., 0., 0., 0., 0., 0., 0., 0.],\n",
       "       [0., 0., 1., 0., 0., 0., 0., 0., 0., 0.],\n",
       "       [0., 0., 0., 1., 0., 0., 0., 0., 0., 0.],\n",
       "       [0., 0., 0., 0., 1., 0., 0., 0., 0., 0.],\n",
       "       [0., 0., 0., 0., 0., 1., 0., 0., 0., 0.],\n",
       "       [0., 0., 0., 0., 0., 0., 1., 0., 0., 0.],\n",
       "       [0., 0., 0., 0., 0., 0., 0., 1., 0., 0.],\n",
       "       [0., 0., 0., 0., 0., 0., 0., 0., 1., 0.],\n",
       "       [0., 0., 0., 0., 0., 0., 0., 0., 0., 1.]])"
      ]
     },
     "execution_count": 292,
     "metadata": {},
     "output_type": "execute_result"
    }
   ],
   "source": [
    "# Get the onehot encoding\n",
    "onehot = np.identity(10)\n",
    "onehot"
   ]
  },
  {
   "cell_type": "markdown",
   "metadata": {},
   "source": [
    "Initial parameters"
   ]
  },
  {
   "cell_type": "code",
   "execution_count": 293,
   "metadata": {},
   "outputs": [],
   "source": [
    "\n",
    "def para_shape(layer_dims):\n",
    "    parameters_shape = []\n",
    "    for i in range(1,len(layer_dims)):\n",
    "        dict_para = {'b'+str(i):layer_dims[i], 'W'+str(i):[layer_dims[i],layer_dims[i-1]]}\n",
    "        parameters_shape.append(dict_para)\n",
    "    return parameters_shape"
   ]
  },
  {
   "cell_type": "code",
   "execution_count": 294,
   "metadata": {},
   "outputs": [
    {
     "data": {
      "text/plain": [
       "[{'b1': 4, 'W1': [4, 5]}, {'b2': 3, 'W2': [3, 4]}, {'b3': 10, 'W3': [10, 3]}]"
      ]
     },
     "execution_count": 294,
     "metadata": {},
     "output_type": "execute_result"
    }
   ],
   "source": [
    "layer_dims = [5, 4, 3, 10] # input:28*28, layer1(output):10\n",
    "layer_activations = ['tanh', 'tanh', 'softmax']\n",
    "parameters_shape = para_shape(layer_dims)\n",
    "parameters_shape"
   ]
  },
  {
   "cell_type": "code",
   "execution_count": 295,
   "metadata": {},
   "outputs": [],
   "source": [
    "\n",
    "def init_bias(b):\n",
    "    return np.zeros(b).reshape(-1,1)\n",
    "\n",
    "def init_weight(w):\n",
    "#     Random initialization\n",
    "#     return np.random.randn(w[0],w[1])  \n",
    "\n",
    "#     Xavier initialization\n",
    "#     return np.random.randn(w[0],w[1])*np.sqrt(2/w[1])\n",
    "\n",
    "#     Random initialization within a small range\n",
    "    return np.random.randn(w[0],w[1])*0.1\n",
    "\n",
    "def init_parameters(para_shp):\n",
    "    parameters = {}\n",
    "    for i in range(1,len(para_shp)+1):\n",
    "        para = {'b'+str(i):init_bias(para_shp[i-1]['b'+str(i)]), 'W'+str(i):init_weight(para_shp[i-1]['W'+str(i)])}\n",
    "        parameters.update(para)\n",
    "    return parameters\n"
   ]
  },
  {
   "cell_type": "code",
   "execution_count": 296,
   "metadata": {},
   "outputs": [
    {
     "data": {
      "text/plain": [
       "{'b1': array([[0.],\n",
       "        [0.],\n",
       "        [0.],\n",
       "        [0.]]),\n",
       " 'W1': array([[ 0.16243454, -0.06117564, -0.05281718, -0.10729686,  0.08654076],\n",
       "        [-0.23015387,  0.17448118, -0.07612069,  0.03190391, -0.02493704],\n",
       "        [ 0.14621079, -0.20601407, -0.03224172, -0.03840544,  0.11337694],\n",
       "        [-0.10998913, -0.01724282, -0.08778584,  0.00422137,  0.05828152]]),\n",
       " 'b2': array([[0.],\n",
       "        [0.],\n",
       "        [0.]]),\n",
       " 'W2': array([[-0.11006192,  0.11447237,  0.09015907,  0.05024943],\n",
       "        [ 0.09008559, -0.06837279, -0.01228902, -0.09357694],\n",
       "        [-0.02678881,  0.05303555, -0.06916608, -0.03967535]]),\n",
       " 'b3': array([[0.],\n",
       "        [0.],\n",
       "        [0.],\n",
       "        [0.],\n",
       "        [0.],\n",
       "        [0.],\n",
       "        [0.],\n",
       "        [0.],\n",
       "        [0.],\n",
       "        [0.]]),\n",
       " 'W3': array([[-0.06871727, -0.08452056, -0.06712461],\n",
       "        [-0.00126646, -0.11173103,  0.02344157],\n",
       "        [ 0.16598022,  0.07420442, -0.01918356],\n",
       "        [-0.0887629 , -0.07471583,  0.16924546],\n",
       "        [ 0.00508078, -0.06369956,  0.01909155],\n",
       "        [ 0.21002551,  0.0120159 ,  0.06172031],\n",
       "        [ 0.03001703, -0.03522498, -0.11425182],\n",
       "        [-0.03493427, -0.02088942,  0.05866232],\n",
       "        [ 0.08389834,  0.09311021,  0.02855873],\n",
       "        [ 0.08851412, -0.07543979,  0.12528682]])}"
      ]
     },
     "execution_count": 296,
     "metadata": {},
     "output_type": "execute_result"
    }
   ],
   "source": [
    "parameters = init_parameters(parameters_shape)\n",
    "parameters"
   ]
  },
  {
   "cell_type": "code",
   "execution_count": 297,
   "metadata": {},
   "outputs": [
    {
     "data": {
      "text/plain": [
       "(3, 4)"
      ]
     },
     "execution_count": 297,
     "metadata": {},
     "output_type": "execute_result"
    }
   ],
   "source": [
    "# check the parameters shape\n",
    "parameters['W2'].shape"
   ]
  },
  {
   "cell_type": "code",
   "execution_count": 298,
   "metadata": {},
   "outputs": [],
   "source": [
    "# Activation function\n",
    "\n",
    "def tanh(x):\n",
    "    return np.tanh(x), x\n",
    "\n",
    "def softmax(x):\n",
    "    exp = np.exp(x-x.max())    # if we do not minus the x.max(), the result will be explode.\n",
    "    return exp/exp.sum(axis=0, keepdims=True), x\n",
    "\n",
    "def relu(x):\n",
    "    return np.maximum(0,x), x\n",
    "\n",
    "def Prelu(x):\n",
    "    pass\n",
    "\n",
    "def sigmoid(x):\n",
    "    return 1/(1+np.exp(-x)), x"
   ]
  },
  {
   "cell_type": "code",
   "execution_count": 299,
   "metadata": {},
   "outputs": [],
   "source": [
    "def linear_forward(A_prev, W, b):\n",
    "    Z = np.dot(W,A_prev) + b\n",
    "    cache = (A_prev,W,b)    \n",
    "    return Z, cache\n",
    "\n",
    "def linear_activation_forward(A_prev, W, b, activation):\n",
    "\n",
    "    if activation == 'tanh':\n",
    "        Z, linear_cache = linear_forward(A_prev, W, b)\n",
    "        A, activation_cache = tanh(Z)\n",
    "    elif activation == 'softmax':\n",
    "        Z, linear_cache = linear_forward(A_prev, W, b)\n",
    "        A, activation_cache = softmax(Z)\n",
    "    elif activation == 'relu':\n",
    "        Z, linear_cache = linear_forward(A_prev, W, b)\n",
    "        A, activation_cache = relu(Z)\n",
    "    elif activation == 'Prelu':\n",
    "        pass\n",
    "    elif activation == 'sigmoid':\n",
    "        pass\n",
    "    cache = (linear_cache, activation_cache)\n",
    "    return A, cache"
   ]
  },
  {
   "cell_type": "code",
   "execution_count": 300,
   "metadata": {},
   "outputs": [],
   "source": [
    "# forward pass\n",
    "def model_forward(X, parameters, activations):\n",
    "\n",
    "    caches = []\n",
    "    A = X\n",
    "    num_layers = len(parameters)//2\n",
    "    \n",
    "    for i in range(1,num_layers):\n",
    "        A_prev = A\n",
    "        W = parameters['W'+str(i)]\n",
    "        b = parameters['b'+str(i)]\n",
    "        A,cache = linear_activation_forward(A_prev, W, b, activations[i-1])\n",
    "        caches.append(cache)\n",
    "        \n",
    "    Y_pred, cache = linear_activation_forward(A,parameters['W'+str(num_layers)],parameters['b'+str(num_layers)],activations[-1])\n",
    "    caches.append(cache)\n",
    "    \n",
    "    return Y_pred, caches"
   ]
  },
  {
   "cell_type": "code",
   "execution_count": 301,
   "metadata": {},
   "outputs": [],
   "source": [
    "# compute the cost\n",
    "def compute_cost(Y_pred,Y_true):\n",
    "\n",
    "    m = Y_true.shape[1]\n",
    "    cost = -np.sum(Y_true*np.log(Y_pred))/m\n",
    "    cost = np.squeeze(cost)\n",
    "    \n",
    "    return cost"
   ]
  },
  {
   "cell_type": "code",
   "execution_count": 302,
   "metadata": {},
   "outputs": [],
   "source": [
    "def linear_backward(dZ, cache):\n",
    "    A_prev,W,b = cache\n",
    "    m = A_prev.shape[1]\n",
    "    \n",
    "    dW = (1/m)*np.dot(dZ,np.transpose(A_prev))\n",
    "    db = (1/m)*np.sum(dZ,axis=1,keepdims=True)\n",
    "    dA_prev = np.dot(np.transpose(W),dZ)\n",
    "    \n",
    "    return dA_prev, dW, db\n",
    "\n",
    "\n",
    "def activation_backward(dA, cache, activation):\n",
    "#     print(\"linear_activation_backward\")\n",
    "    linear_cache, activation_cache = cache\n",
    "    \n",
    "    if activation == 'tanh':\n",
    "        dZ = d_tanh(dA, activation_cache)\n",
    "        dA_prev, dW, db = linear_backward(dZ,linear_cache)\n",
    "    elif activation == 'relu':\n",
    "        dZ = d_relu(dA, activation_cache)\n",
    "        dA_prev, dW, db = linear_backward(dZ,linear_cache)\n",
    "    elif activation == 'Prelu':\n",
    "        dZ = d_relu(dA, activation_cache)\n",
    "        dA_prev, dW, db = linear_backward(dZ,linear_cache)\n",
    "    elif activation == 'sigmoid':\n",
    "        pass\n",
    "    return dA_prev, dW, db\n",
    "\n",
    "def last_layer_backprop(dA, Y_true, cache, activation):\n",
    "    linear_cache, activation_cache = cache\n",
    "    if activation == 'softmax':\n",
    "        dZ = dA - Y_true\n",
    "        dA_prev, dW, db = linear_backward(dZ,linear_cache)\n",
    "    elif activation == 'sigmoid':\n",
    "        pass\n",
    "    else:\n",
    "        pass\n",
    "    \n",
    "    return dA_prev, dW, db"
   ]
  },
  {
   "cell_type": "code",
   "execution_count": 303,
   "metadata": {},
   "outputs": [],
   "source": [
    "# back pass\n",
    "\n",
    "def model_backward(Y_pred, Y_true, activations, caches):\n",
    "\n",
    "    gradients = {}\n",
    "    num_layers = len(caches)\n",
    "    Y_true = Y_true.reshape(Y_pred.shape)\n",
    "    \n",
    "    dA = Y_pred \n",
    "    cur_cache = caches[-1]\n",
    "    cur_activation = activations[-1]\n",
    "    gradients[\"dA\"+str(num_layers-1)],gradients[\"dW\"+str(num_layers)],gradients[\"db\"+str(num_layers)] = last_layer_backprop(dA, Y_true, cur_cache, cur_activation)\n",
    "\n",
    "    for l in reversed(range(num_layers-1)):\n",
    "        cur_cache = caches[l]\n",
    "        cur_activation = activations[l]\n",
    "        dA_prev_temp,dW_temp,db_temp = activation_backward(gradients[\"dA\"+str(l+1)], cur_cache, cur_activation)\n",
    "        gradients[\"dA\" + str(l)] = dA_prev_temp\n",
    "        gradients[\"dW\" + str(l + 1)] = dW_temp\n",
    "        gradients[\"db\" + str(l + 1)] = db_temp\n",
    "        \n",
    "    return gradients"
   ]
  },
  {
   "cell_type": "code",
   "execution_count": 304,
   "metadata": {},
   "outputs": [],
   "source": [
    "# update parameter\n",
    "\n",
    "def update_para(parameters,grads,learning_rate=0.001):\n",
    "\n",
    "    num_layers = len(parameters)//2\n",
    "    for l in range(num_layers):\n",
    "        parameters[\"W\" + str(l+1)] = parameters[\"W\" + str(l+1)] - learning_rate*grads[\"dW\" + str(l+1)]\n",
    "        parameters[\"b\" + str(l+1)] = parameters[\"b\" + str(l+1)] - learning_rate*grads[\"db\" + str(l+1)]\n",
    "    \n",
    "    return parameters"
   ]
  },
  {
   "cell_type": "code",
   "execution_count": 305,
   "metadata": {},
   "outputs": [],
   "source": [
    "# derivate of activation\n",
    "\n",
    "def d_softmax(dA, Y_true, cache):\n",
    "    dZ = dA - Y_true\n",
    "    dZ = dZ/dZ.shape[1]\n",
    "    return dZ\n",
    "\n",
    "def d_tanh(dA, cache):\n",
    "    Z = cache\n",
    "    return 1 - np.tanh(dA)**2\n",
    "\n",
    "def d_relu(dA, cache):\n",
    "    Z = cache\n",
    "    dZ = np.array(dA, copy=True)\n",
    "    dZ[Z<=0] = 0\n",
    "    return dZ\n",
    "\n",
    "def d_sigmoid(dA, cache):\n",
    "    \n",
    "    s = 1/(1+np.exp(-Z))\n",
    "    dZ = dA * s * (1-s)    \n",
    "    return dZ\n",
    "\n",
    "def d_Prelu(dA,cache):\n",
    "    pass"
   ]
  },
  {
   "cell_type": "code",
   "execution_count": 306,
   "metadata": {},
   "outputs": [],
   "source": [
    "# build neu_net\n",
    "def build_network(X,Y,layer_dims,layer_activations,num_iterations,learning_rate=0.01,print_cost=False):\n",
    "    costs=[]\n",
    "    # Initial parameters.\n",
    "    parameter_shape = para_shape(layer_dims)\n",
    "    parameters = init_parameters(parameter_shape)\n",
    "    \n",
    "    # Gradient descent\n",
    "    for i in range(0, num_iterations):\n",
    "\n",
    "        # Forward propagation: \n",
    "        Y_pred, caches = model_forward(X, parameters, layer_activations)\n",
    "\n",
    "        # Compute cost.\n",
    "        cost = compute_cost(Y_pred, Y)\n",
    "    \n",
    "        # Backward propagation:\n",
    "        grads = model_backward(Y_pred, Y, layer_activations, caches)\n",
    "#         break\n",
    "        # Update parameters.\n",
    "        parameters = update_para(parameters,grads,learning_rate=learning_rate)\n",
    "                \n",
    "        # Print the cost every 100 training example\n",
    "        if print_cost and i % 100 == 0:\n",
    "            print (\"Cost after iteration %i: %f\" %(i, cost))\n",
    "        if print_cost and i % 100 == 0:\n",
    "            costs.append(cost)\n",
    "            \n",
    "    # plot the cost\n",
    "    plt.plot(np.squeeze(costs))\n",
    "    plt.ylabel('cost')\n",
    "    plt.xlabel('iterations (per hundreds)')\n",
    "    plt.title(\"Learning rate =\" + str(learning_rate))\n",
    "    plt.show()\n",
    "    \n",
    "    return parameters"
   ]
  },
  {
   "cell_type": "code",
   "execution_count": 307,
   "metadata": {},
   "outputs": [
    {
     "data": {
      "text/plain": [
       "(5000, 10)"
      ]
     },
     "execution_count": 307,
     "metadata": {},
     "output_type": "execute_result"
    }
   ],
   "source": [
    "onehot[train_lab].shape"
   ]
  },
  {
   "cell_type": "code",
   "execution_count": 308,
   "metadata": {},
   "outputs": [
    {
     "name": "stdout",
     "output_type": "stream",
     "text": [
      "Cost after iteration 0: 7.624379\n",
      "Cost after iteration 100: 1.043654\n",
      "Cost after iteration 200: 0.645908\n",
      "Cost after iteration 300: 0.501640\n",
      "Cost after iteration 400: 0.401322\n",
      "Cost after iteration 500: 0.346719\n",
      "Cost after iteration 600: 0.299721\n",
      "Cost after iteration 700: 0.263745\n",
      "Cost after iteration 800: 0.236090\n",
      "Cost after iteration 900: 0.210043\n",
      "Cost after iteration 1000: 0.189811\n",
      "Cost after iteration 1100: 0.171249\n",
      "Cost after iteration 1200: 0.155207\n",
      "Cost after iteration 1300: 0.141475\n",
      "Cost after iteration 1400: 0.127629\n",
      "Cost after iteration 1500: 0.116170\n",
      "Cost after iteration 1600: 0.106246\n",
      "Cost after iteration 1700: 0.096596\n",
      "Cost after iteration 1800: 0.088260\n",
      "Cost after iteration 1900: 0.080703\n",
      "Cost after iteration 2000: 0.074198\n",
      "Cost after iteration 2100: 0.067810\n",
      "Cost after iteration 2200: 0.062268\n",
      "Cost after iteration 2300: 0.057102\n",
      "Cost after iteration 2400: 0.052465\n"
     ]
    },
    {
     "data": {
      "image/png": "[encoded data removed]",
      "text/plain": [
       "<Figure size 432x288 with 1 Axes>"
      ]
     },
     "metadata": {
      "needs_background": "light"
     },
     "output_type": "display_data"
    }
   ],
   "source": [
    "# Input 28*28, Output 10: Size depend on the dataset.\n",
    "layers_dims = [28*28,30,20,10,10]\n",
    "layer_activations = ['relu', 'relu','relu', 'softmax']\n",
    "\n",
    "parameters = build_network(train_img.transpose(), onehot[train_lab].transpose(), layers_dims, layer_activations, num_iterations = 2500, print_cost = True)\n"
   ]
  },
  {
   "cell_type": "code",
   "execution_count": null,
   "metadata": {},
   "outputs": [],
   "source": []
  }
 ],
 "metadata": {
  "kernelspec": {
   "display_name": "Python 3",
   "language": "python",
   "name": "python3"
  },
  "language_info": {
   "codemirror_mode": {
    "name": "ipython",
    "version": 3
   },
   "file_extension": ".py",
   "mimetype": "text/x-python",
   "name": "python",
   "nbconvert_exporter": "python",
   "pygments_lexer": "ipython3",
   "version": "3.7.3"
  }
 },
 "nbformat": 4,
 "nbformat_minor": 2
}
